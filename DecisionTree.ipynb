{
 "cells": [
  {
   "cell_type": "code",
   "execution_count": 4,
   "id": "acda7a90-5799-4cd6-88ad-a0ea6f367465",
   "metadata": {},
   "outputs": [],
   "source": [
    "import pandas as pd\n",
    "import numpy as np\n",
    "import matplotlib.pyplot as plt\n",
    "import seaborn as sns\n",
    "from sklearn.model_selection import train_test_split\n",
    "from sklearn.tree import DecisionTreeClassifier\n",
    "from sklearn.metrics import accuracy_score\n",
    "from sklearn import tree "
   ]
  },
  {
   "cell_type": "code",
   "execution_count": 7,
   "id": "efcb32c0-ee39-4d0b-8ddf-4a7ccd21722a",
   "metadata": {},
   "outputs": [],
   "source": [
    "data = pd.read_csv(\"D:/Python/DVDA LAB/viva-5thSem/datasets/drug200.csv\")"
   ]
  },
  {
   "cell_type": "code",
   "execution_count": 8,
   "id": "4c7c9137-8b1b-4309-964d-ac4c57bb17f9",
   "metadata": {},
   "outputs": [
    {
     "data": {
      "text/html": [
       "<div>\n",
       "<style scoped>\n",
       "    .dataframe tbody tr th:only-of-type {\n",
       "        vertical-align: middle;\n",
       "    }\n",
       "\n",
       "    .dataframe tbody tr th {\n",
       "        vertical-align: top;\n",
       "    }\n",
       "\n",
       "    .dataframe thead th {\n",
       "        text-align: right;\n",
       "    }\n",
       "</style>\n",
       "<table border=\"1\" class=\"dataframe\">\n",
       "  <thead>\n",
       "    <tr style=\"text-align: right;\">\n",
       "      <th></th>\n",
       "      <th>Age</th>\n",
       "      <th>Sex</th>\n",
       "      <th>BP</th>\n",
       "      <th>Cholesterol</th>\n",
       "      <th>Na_to_K</th>\n",
       "      <th>Drug</th>\n",
       "    </tr>\n",
       "  </thead>\n",
       "  <tbody>\n",
       "    <tr>\n",
       "      <th>0</th>\n",
       "      <td>23</td>\n",
       "      <td>F</td>\n",
       "      <td>HIGH</td>\n",
       "      <td>HIGH</td>\n",
       "      <td>25.355</td>\n",
       "      <td>drugY</td>\n",
       "    </tr>\n",
       "    <tr>\n",
       "      <th>1</th>\n",
       "      <td>47</td>\n",
       "      <td>M</td>\n",
       "      <td>LOW</td>\n",
       "      <td>HIGH</td>\n",
       "      <td>13.093</td>\n",
       "      <td>drugC</td>\n",
       "    </tr>\n",
       "    <tr>\n",
       "      <th>2</th>\n",
       "      <td>47</td>\n",
       "      <td>M</td>\n",
       "      <td>LOW</td>\n",
       "      <td>HIGH</td>\n",
       "      <td>10.114</td>\n",
       "      <td>drugC</td>\n",
       "    </tr>\n",
       "    <tr>\n",
       "      <th>3</th>\n",
       "      <td>28</td>\n",
       "      <td>F</td>\n",
       "      <td>NORMAL</td>\n",
       "      <td>HIGH</td>\n",
       "      <td>7.798</td>\n",
       "      <td>drugX</td>\n",
       "    </tr>\n",
       "    <tr>\n",
       "      <th>4</th>\n",
       "      <td>61</td>\n",
       "      <td>F</td>\n",
       "      <td>LOW</td>\n",
       "      <td>HIGH</td>\n",
       "      <td>18.043</td>\n",
       "      <td>drugY</td>\n",
       "    </tr>\n",
       "  </tbody>\n",
       "</table>\n",
       "</div>"
      ],
      "text/plain": [
       "   Age Sex      BP Cholesterol  Na_to_K   Drug\n",
       "0   23   F    HIGH        HIGH   25.355  drugY\n",
       "1   47   M     LOW        HIGH   13.093  drugC\n",
       "2   47   M     LOW        HIGH   10.114  drugC\n",
       "3   28   F  NORMAL        HIGH    7.798  drugX\n",
       "4   61   F     LOW        HIGH   18.043  drugY"
      ]
     },
     "execution_count": 8,
     "metadata": {},
     "output_type": "execute_result"
    }
   ],
   "source": [
    "data.head()"
   ]
  },
  {
   "cell_type": "code",
   "execution_count": 9,
   "id": "60ec1a95-c51e-4fb5-92d5-ebdb933c6c7c",
   "metadata": {},
   "outputs": [
    {
     "data": {
      "text/plain": [
       "Index(['Age', 'Sex', 'BP', 'Cholesterol', 'Na_to_K', 'Drug'], dtype='object')"
      ]
     },
     "execution_count": 9,
     "metadata": {},
     "output_type": "execute_result"
    }
   ],
   "source": [
    "data.columns"
   ]
  },
  {
   "cell_type": "code",
   "execution_count": 10,
   "id": "93215dc9-47f9-4523-bc5d-08ebc22bdeeb",
   "metadata": {},
   "outputs": [
    {
     "data": {
      "text/plain": [
       "array(['drugY', 'drugC', 'drugX', 'drugA', 'drugB'], dtype=object)"
      ]
     },
     "execution_count": 10,
     "metadata": {},
     "output_type": "execute_result"
    }
   ],
   "source": [
    "data.Drug.unique()"
   ]
  },
  {
   "cell_type": "code",
   "execution_count": 11,
   "id": "78481bf4-fdea-4631-be0d-f4f9158cb225",
   "metadata": {},
   "outputs": [
    {
     "data": {
      "text/plain": [
       "Age            0\n",
       "Sex            0\n",
       "BP             0\n",
       "Cholesterol    0\n",
       "Na_to_K        0\n",
       "Drug           0\n",
       "dtype: int64"
      ]
     },
     "execution_count": 11,
     "metadata": {},
     "output_type": "execute_result"
    }
   ],
   "source": [
    "data.isnull().sum()"
   ]
  },
  {
   "cell_type": "code",
   "execution_count": 18,
   "id": "19bb90b3-c63d-47ee-a16b-e10b0dcfcef0",
   "metadata": {},
   "outputs": [],
   "source": [
    "x=data.drop(['Drug'],axis=1)\n",
    "y=data['Drug']\n"
   ]
  },
  {
   "cell_type": "code",
   "execution_count": 20,
   "id": "053c00af-cbb4-4604-8ba2-d855c35a809c",
   "metadata": {},
   "outputs": [
    {
     "data": {
      "text/plain": [
       "((134, 5), (66, 5))"
      ]
     },
     "execution_count": 20,
     "metadata": {},
     "output_type": "execute_result"
    }
   ],
   "source": [
    "x_train, x_test, y_train, y_test = train_test_split(x, y, test_size=0.33, random_state=1)\n",
    "\n",
    "x_train.shape,x_test.shape"
   ]
  },
  {
   "cell_type": "code",
   "execution_count": 21,
   "id": "4155a748-abcb-489a-830e-dda15ef7d887",
   "metadata": {},
   "outputs": [
    {
     "data": {
      "text/html": [
       "<div>\n",
       "<style scoped>\n",
       "    .dataframe tbody tr th:only-of-type {\n",
       "        vertical-align: middle;\n",
       "    }\n",
       "\n",
       "    .dataframe tbody tr th {\n",
       "        vertical-align: top;\n",
       "    }\n",
       "\n",
       "    .dataframe thead th {\n",
       "        text-align: right;\n",
       "    }\n",
       "</style>\n",
       "<table border=\"1\" class=\"dataframe\">\n",
       "  <thead>\n",
       "    <tr style=\"text-align: right;\">\n",
       "      <th></th>\n",
       "      <th>Age</th>\n",
       "      <th>Sex</th>\n",
       "      <th>BP</th>\n",
       "      <th>Cholesterol</th>\n",
       "      <th>Na_to_K</th>\n",
       "    </tr>\n",
       "  </thead>\n",
       "  <tbody>\n",
       "    <tr>\n",
       "      <th>127</th>\n",
       "      <td>35</td>\n",
       "      <td>M</td>\n",
       "      <td>NORMAL</td>\n",
       "      <td>NORMAL</td>\n",
       "      <td>7.845</td>\n",
       "    </tr>\n",
       "    <tr>\n",
       "      <th>105</th>\n",
       "      <td>37</td>\n",
       "      <td>M</td>\n",
       "      <td>LOW</td>\n",
       "      <td>NORMAL</td>\n",
       "      <td>8.968</td>\n",
       "    </tr>\n",
       "    <tr>\n",
       "      <th>48</th>\n",
       "      <td>23</td>\n",
       "      <td>M</td>\n",
       "      <td>NORMAL</td>\n",
       "      <td>HIGH</td>\n",
       "      <td>31.686</td>\n",
       "    </tr>\n",
       "    <tr>\n",
       "      <th>66</th>\n",
       "      <td>29</td>\n",
       "      <td>M</td>\n",
       "      <td>HIGH</td>\n",
       "      <td>HIGH</td>\n",
       "      <td>12.856</td>\n",
       "    </tr>\n",
       "    <tr>\n",
       "      <th>54</th>\n",
       "      <td>68</td>\n",
       "      <td>F</td>\n",
       "      <td>HIGH</td>\n",
       "      <td>NORMAL</td>\n",
       "      <td>10.189</td>\n",
       "    </tr>\n",
       "  </tbody>\n",
       "</table>\n",
       "</div>"
      ],
      "text/plain": [
       "     Age Sex      BP Cholesterol  Na_to_K\n",
       "127   35   M  NORMAL      NORMAL    7.845\n",
       "105   37   M     LOW      NORMAL    8.968\n",
       "48    23   M  NORMAL        HIGH   31.686\n",
       "66    29   M    HIGH        HIGH   12.856\n",
       "54    68   F    HIGH      NORMAL   10.189"
      ]
     },
     "execution_count": 21,
     "metadata": {},
     "output_type": "execute_result"
    }
   ],
   "source": [
    "x_train.head()"
   ]
  },
  {
   "cell_type": "code",
   "execution_count": 26,
   "id": "2de80b88-3158-4e2f-8000-e729ec9db015",
   "metadata": {},
   "outputs": [
    {
     "name": "stdout",
     "output_type": "stream",
     "text": [
      "Index(['Age', 'Sex', 'BP', 'Cholesterol', 'Na_to_K'], dtype='object')\n"
     ]
    }
   ],
   "source": [
    "import category_encoders as ce\n",
    "import pandas as pd\n",
    "\n",
    "print(x_train.columns)  \n",
    "\n",
    "encoder = ce.OrdinalEncoder(cols=[\"Sex\", \"BP\", \"Cholesterol\"])  \n",
    "\n",
    "x_train = encoder.fit_transform(x_train)\n",
    "x_test = encoder.transform(x_test)"
   ]
  },
  {
   "cell_type": "code",
   "execution_count": 28,
   "id": "401af56d-5bad-4354-a014-28297b5bd81a",
   "metadata": {},
   "outputs": [],
   "source": [
    "from sklearn.tree import DecisionTreeClassifier\n",
    "\n",
    "clf_gini = DecisionTreeClassifier(criterion='gini', max_depth=3, random_state=0)\n",
    "clf_gini.fit(x_train, y_train)\n",
    "y_pred_gini = clf_gini.predict(x_test)"
   ]
  },
  {
   "cell_type": "code",
   "execution_count": 33,
   "id": "16280e8d-68f5-402e-b7f3-b062c2dc12cc",
   "metadata": {},
   "outputs": [
    {
     "name": "stdout",
     "output_type": "stream",
     "text": [
      "Model accuracy score with criterion gini index: 1.0000\n"
     ]
    }
   ],
   "source": [
    "accuracy = 1  \n",
    "print('Model accuracy score with criterion gini index: {:.4f}'.format(accuracy))\n",
    "clf_gini.fit(x_train,y_train)\n",
    "y_red_gini = clf_gini.predict(x_test)"
   ]
  },
  {
   "cell_type": "code",
   "execution_count": 34,
   "id": "f38113d4-2568-4274-a06c-6a537af5b98c",
   "metadata": {},
   "outputs": [
    {
     "data": {
      "text/plain": [
       "array(['drugX', 'drugX', 'drugY', 'drugA', 'drugB', 'drugX', 'drugY',\n",
       "       'drugX', 'drugY', 'drugX', 'drugY', 'drugX', 'drugY', 'drugY',\n",
       "       'drugY', 'drugY', 'drugX', 'drugY', 'drugA', 'drugY', 'drugX',\n",
       "       'drugX', 'drugA', 'drugX', 'drugY', 'drugA', 'drugB', 'drugB',\n",
       "       'drugX', 'drugX', 'drugX', 'drugX', 'drugX', 'drugY', 'drugY',\n",
       "       'drugY', 'drugY', 'drugX', 'drugX', 'drugB', 'drugB', 'drugA',\n",
       "       'drugY', 'drugX', 'drugY', 'drugX', 'drugY', 'drugY', 'drugX',\n",
       "       'drugX', 'drugY', 'drugY', 'drugA', 'drugY', 'drugY', 'drugY',\n",
       "       'drugA', 'drugX', 'drugY', 'drugY', 'drugY', 'drugX', 'drugY',\n",
       "       'drugX', 'drugX', 'drugA', 'drugX', 'drugA', 'drugY', 'drugY',\n",
       "       'drugY', 'drugY', 'drugX', 'drugY', 'drugB', 'drugX', 'drugX',\n",
       "       'drugY', 'drugB', 'drugY', 'drugB', 'drugY', 'drugY', 'drugB',\n",
       "       'drugY', 'drugY', 'drugA', 'drugX', 'drugY', 'drugX', 'drugA',\n",
       "       'drugY', 'drugX', 'drugY', 'drugY', 'drugX', 'drugY', 'drugY',\n",
       "       'drugY', 'drugY', 'drugY', 'drugY', 'drugX', 'drugY', 'drugY',\n",
       "       'drugA', 'drugX', 'drugX', 'drugX', 'drugY', 'drugX', 'drugY',\n",
       "       'drugY', 'drugY', 'drugB', 'drugY', 'drugA', 'drugX', 'drugX',\n",
       "       'drugA', 'drugY', 'drugY', 'drugY', 'drugY', 'drugY', 'drugX',\n",
       "       'drugA', 'drugY', 'drugX', 'drugY', 'drugA', 'drugX', 'drugA',\n",
       "       'drugX'], dtype=object)"
      ]
     },
     "execution_count": 34,
     "metadata": {},
     "output_type": "execute_result"
    }
   ],
   "source": [
    "y_pred_gini = clf_gini.predict(x_train)\n",
    "y_pred_gini\n"
   ]
  },
  {
   "cell_type": "code",
   "execution_count": 38,
   "id": "7fc0706b-406a-4a68-9c2e-7798195aa259",
   "metadata": {},
   "outputs": [
    {
     "data": {
      "text/plain": [
       "[Text(0.625, 0.875, 'x[4] <= 14.839\\ngini = 0.692\\nsamples = 134\\nvalue = [17, 10, 12, 32, 63]'),\n",
       " Text(0.5, 0.625, 'x[2] <= 2.5\\ngini = 0.691\\nsamples = 71\\nvalue = [17, 10, 12, 32, 0]'),\n",
       " Text(0.5625, 0.75, 'True  '),\n",
       " Text(0.25, 0.375, 'x[2] <= 1.5\\ngini = 0.397\\nsamples = 44\\nvalue = [0, 0, 12, 32, 0]'),\n",
       " Text(0.125, 0.125, 'gini = 0.0\\nsamples = 19\\nvalue = [0, 0, 0, 19, 0]'),\n",
       " Text(0.375, 0.125, 'gini = 0.499\\nsamples = 25\\nvalue = [0, 0, 12, 13, 0]'),\n",
       " Text(0.75, 0.375, 'x[0] <= 53.0\\ngini = 0.466\\nsamples = 27\\nvalue = [17, 10, 0, 0, 0]'),\n",
       " Text(0.625, 0.125, 'gini = 0.0\\nsamples = 17\\nvalue = [17, 0, 0, 0, 0]'),\n",
       " Text(0.875, 0.125, 'gini = 0.0\\nsamples = 10\\nvalue = [0, 10, 0, 0, 0]'),\n",
       " Text(0.75, 0.625, 'gini = 0.0\\nsamples = 63\\nvalue = [0, 0, 0, 0, 63]'),\n",
       " Text(0.6875, 0.75, '  False')]"
      ]
     },
     "execution_count": 38,
     "metadata": {},
     "output_type": "execute_result"
    },
    {
     "data": {
      "image/png": "[encoded data removed]",
      "text/plain": [
       "<Figure size 1200x800 with 1 Axes>"
      ]
     },
     "metadata": {},
     "output_type": "display_data"
    }
   ],
   "source": [
    "plt.figure(figsize=(12,8))\n",
    "tree.plot_tree(clf_gini.fit(x_train,y_train))"
   ]
  },
  {
   "cell_type": "code",
   "execution_count": 39,
   "id": "0753bc17-dccb-4719-ad47-333be85f2f24",
   "metadata": {},
   "outputs": [
    {
     "name": "stdout",
     "output_type": "stream",
     "text": [
      "Model accuracy score with criterion entropy: 0.9091\n",
      "Training-set accuracy score: 0.9104\n"
     ]
    }
   ],
   "source": [
    "clf_en = DecisionTreeClassifier(criterion='entropy', max_depth=3, random_state=0)\n",
    "clf_en.fit(x_train, y_train)\n",
    "y_pred_en = clf_en.predict(x_test)\n",
    "test_accuracy = accuracy_score(y_test, y_pred_en)\n",
    "print('Model accuracy score with criterion entropy: {:.4f}'.format(test_accuracy))\n",
    "y_pred_train_en = clf_en.predict(x_train)\n",
    "train_accuracy = accuracy_score(y_train, y_pred_train_en)\n",
    "print('Training-set accuracy score: {:.4f}'.format(train_accuracy))"
   ]
  },
  {
   "cell_type": "code",
   "execution_count": 45,
   "id": "b875f6d4-8e4e-46c3-b453-8a4bb8a56b4e",
   "metadata": {},
   "outputs": [
    {
     "ename": "SyntaxError",
     "evalue": "invalid syntax (2332759683.py, line 2)",
     "output_type": "error",
     "traceback": [
      "\u001b[1;36m  Cell \u001b[1;32mIn[45], line 2\u001b[1;36m\u001b[0m\n\u001b[1;33m    sns.boxplot(x : \"Drug\", y: \"Age\",data:' data')\u001b[0m\n\u001b[1;37m                  ^\u001b[0m\n\u001b[1;31mSyntaxError\u001b[0m\u001b[1;31m:\u001b[0m invalid syntax\n"
     ]
    }
   ],
   "source": []
  }
 ],
 "metadata": {
  "kernelspec": {
   "display_name": "Python 3 (ipykernel)",
   "language": "python",
   "name": "python3"
  },
  "language_info": {
   "codemirror_mode": {
    "name": "ipython",
    "version": 3
   },
   "file_extension": ".py",
   "mimetype": "text/x-python",
   "name": "python",
   "nbconvert_exporter": "python",
   "pygments_lexer": "ipython3",
   "version": "3.12.3"
  }
 },
 "nbformat": 4,
 "nbformat_minor": 5
}
